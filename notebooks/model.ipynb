{
 "cells": [
  {
   "cell_type": "code",
   "execution_count": 3,
   "id": "f2a2c588-9742-4109-8cff-4c17da71b605",
   "metadata": {},
   "outputs": [],
   "source": [
    "import pandas as pd\n",
    "import seaborn as sns\n",
    "import matplotlib.pyplot as plt\n",
    "pd.set_option('display.max_rows', 200)"
   ]
  },
  {
   "cell_type": "code",
   "execution_count": null,
   "id": "72712622-8044-40a3-96f0-21f005741aaa",
   "metadata": {},
   "outputs": [],
   "source": [
    "df_train = pd.read_parquet(\"../data/train.parquet\")"
   ]
  },
  {
   "cell_type": "code",
   "execution_count": null,
   "id": "0f9f8951-b997-4e29-9ff8-78b13833fec8",
   "metadata": {},
   "outputs": [],
   "source": [
    "print(df_train.columns.tolist())\n",
    "df_train.head().T"
   ]
  },
  {
   "cell_type": "code",
   "execution_count": null,
   "id": "daad4c94-a518-4fb6-9a6b-7a62c25d2fe9",
   "metadata": {},
   "outputs": [],
   "source": [
    "import pandas as pd\n",
    "import numpy as np\n",
    "from sklearn.model_selection import train_test_split\n",
    "from sklearn.metrics import mean_squared_error\n",
    "import lightgbm as lgb\n",
    "\n",
    "# ---- Step 1: サンプリング（20%）\n",
    "df_train_small = df_train.sample(frac=0.2, random_state=42)\n",
    "\n",
    "# ---- Step 2: 特徴量と目的変数の分離\n",
    "features = [\n",
    "    'pickup_longitude',\n",
    "    'pickup_latitude',\n",
    "    'dropoff_longitude',\n",
    "    'dropoff_latitude',\n",
    "    'passenger_count'\n",
    "]\n",
    "target = 'fare_amount'\n",
    "\n",
    "X = df_train_small[features]\n",
    "y = df_train_small[target]\n",
    "\n",
    "# ---- Step 3: 学習用・検証用に分割（80:20）\n",
    "X_train, X_val, y_train, y_val = train_test_split(\n",
    "    X, y, test_size=0.2, random_state=42\n",
    ")\n",
    "\n",
    "# ---- Step 4: LightGBM用データセット\n",
    "train_data = lgb.Dataset(X_train, label=y_train)\n",
    "val_data = lgb.Dataset(X_val, label=y_val)\n",
    "\n",
    "# ---- Step 5: モデル学習\n",
    "params = {\n",
    "    'objective': 'regression',\n",
    "    'metric': 'rmse',\n",
    "    'verbosity': -1,\n",
    "    'boosting_type': 'gbdt',\n",
    "    'learning_rate': 0.1,\n",
    "    'num_leaves': 31,\n",
    "    'random_state': 42\n",
    "}\n",
    "\n",
    "model = lgb.train(\n",
    "    params,\n",
    "    train_data,\n",
    "    valid_sets=[val_data],\n",
    "    num_boost_round=1000,\n",
    "    early_stopping_rounds=50,\n",
    "    verbose_eval=100\n",
    ")\n",
    "\n",
    "# ---- Step 6: 検証スコア（RMSE）\n",
    "y_pred = model.predict(X_val)\n",
    "rmse = mean_squared_error(y_val, y_pred, squared=False)\n",
    "print(f\"Validation RMSE: {rmse:.4f}\")\n"
   ]
  },
  {
   "cell_type": "code",
   "execution_count": null,
   "id": "870d7d5f-b000-4031-8772-a46913573fa4",
   "metadata": {},
   "outputs": [],
   "source": []
  }
 ],
 "metadata": {
  "kernelspec": {
   "display_name": "Python 3 (ipykernel)",
   "language": "python",
   "name": "python3"
  },
  "language_info": {
   "codemirror_mode": {
    "name": "ipython",
    "version": 3
   },
   "file_extension": ".py",
   "mimetype": "text/x-python",
   "name": "python",
   "nbconvert_exporter": "python",
   "pygments_lexer": "ipython3",
   "version": "3.10.16"
  }
 },
 "nbformat": 4,
 "nbformat_minor": 5
}
