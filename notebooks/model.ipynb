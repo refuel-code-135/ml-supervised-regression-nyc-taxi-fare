{
 "cells": [
  {
   "cell_type": "code",
   "execution_count": 1,
   "id": "f2a2c588-9742-4109-8cff-4c17da71b605",
   "metadata": {},
   "outputs": [],
   "source": [
    "import pandas as pd\n",
    "import seaborn as sns\n",
    "import matplotlib.pyplot as plt\n",
    "pd.set_option('display.max_rows', 200)"
   ]
  },
  {
   "cell_type": "code",
   "execution_count": 2,
   "id": "72712622-8044-40a3-96f0-21f005741aaa",
   "metadata": {},
   "outputs": [],
   "source": [
    "#df_train = pd.read_parquet(\"../data/train.parquet\")"
   ]
  },
  {
   "cell_type": "code",
   "execution_count": 8,
   "id": "f33acb4d-055e-4281-937f-a5e2a533e798",
   "metadata": {},
   "outputs": [],
   "source": [
    "#df_sample = df_train.sample(frac=0.01, random_state=42)\n",
    "#df_sample.to_parquet(\"../data/train_sample_1pct.parquet\")"
   ]
  },
  {
   "cell_type": "code",
   "execution_count": 10,
   "id": "a13f5ac0-80b8-48f3-a9b7-5e9832f6a724",
   "metadata": {},
   "outputs": [],
   "source": [
    "df_train = pd.read_parquet(\"../data/train_sample_1pct.parquet\")"
   ]
  },
  {
   "cell_type": "code",
   "execution_count": 11,
   "id": "0f9f8951-b997-4e29-9ff8-78b13833fec8",
   "metadata": {},
   "outputs": [
    {
     "name": "stdout",
     "output_type": "stream",
     "text": [
      "['key', 'fare_amount', 'pickup_datetime', 'pickup_longitude', 'pickup_latitude', 'dropoff_longitude', 'dropoff_latitude', 'passenger_count']\n"
     ]
    },
    {
     "data": {
      "text/html": [
       "<div>\n",
       "<style scoped>\n",
       "    .dataframe tbody tr th:only-of-type {\n",
       "        vertical-align: middle;\n",
       "    }\n",
       "\n",
       "    .dataframe tbody tr th {\n",
       "        vertical-align: top;\n",
       "    }\n",
       "\n",
       "    .dataframe thead th {\n",
       "        text-align: right;\n",
       "    }\n",
       "</style>\n",
       "<table border=\"1\" class=\"dataframe\">\n",
       "  <thead>\n",
       "    <tr style=\"text-align: right;\">\n",
       "      <th></th>\n",
       "      <th>10478479</th>\n",
       "      <th>2240033</th>\n",
       "      <th>24966385</th>\n",
       "      <th>38721384</th>\n",
       "      <th>41464765</th>\n",
       "    </tr>\n",
       "  </thead>\n",
       "  <tbody>\n",
       "    <tr>\n",
       "      <th>key</th>\n",
       "      <td>2010-01-16 20:06:00.000000168</td>\n",
       "      <td>2010-09-22 23:21:00.00000065</td>\n",
       "      <td>2013-10-17 18:40:14.0000001</td>\n",
       "      <td>2015-06-09 19:39:42.0000009</td>\n",
       "      <td>2012-05-01 07:16:59.0000001</td>\n",
       "    </tr>\n",
       "    <tr>\n",
       "      <th>fare_amount</th>\n",
       "      <td>3.3</td>\n",
       "      <td>6.5</td>\n",
       "      <td>5.0</td>\n",
       "      <td>40.5</td>\n",
       "      <td>7.7</td>\n",
       "    </tr>\n",
       "    <tr>\n",
       "      <th>pickup_datetime</th>\n",
       "      <td>2010-01-16 20:06:00 UTC</td>\n",
       "      <td>2010-09-22 23:21:00 UTC</td>\n",
       "      <td>2013-10-17 18:40:14 UTC</td>\n",
       "      <td>2015-06-09 19:39:42 UTC</td>\n",
       "      <td>2012-05-01 07:16:59 UTC</td>\n",
       "    </tr>\n",
       "    <tr>\n",
       "      <th>pickup_longitude</th>\n",
       "      <td>-73.953323</td>\n",
       "      <td>-73.985542</td>\n",
       "      <td>-73.999945</td>\n",
       "      <td>-73.974533</td>\n",
       "      <td>-73.952835</td>\n",
       "    </tr>\n",
       "    <tr>\n",
       "      <th>pickup_latitude</th>\n",
       "      <td>40.778532</td>\n",
       "      <td>40.738333</td>\n",
       "      <td>40.718097</td>\n",
       "      <td>40.756237</td>\n",
       "      <td>40.786351</td>\n",
       "    </tr>\n",
       "    <tr>\n",
       "      <th>dropoff_longitude</th>\n",
       "      <td>-73.953375</td>\n",
       "      <td>-74.00335</td>\n",
       "      <td>-73.999239</td>\n",
       "      <td>-73.923149</td>\n",
       "      <td>-73.974022</td>\n",
       "    </tr>\n",
       "    <tr>\n",
       "      <th>dropoff_latitude</th>\n",
       "      <td>40.772505</td>\n",
       "      <td>40.738935</td>\n",
       "      <td>40.723103</td>\n",
       "      <td>40.86721</td>\n",
       "      <td>40.762765</td>\n",
       "    </tr>\n",
       "    <tr>\n",
       "      <th>passenger_count</th>\n",
       "      <td>1</td>\n",
       "      <td>1</td>\n",
       "      <td>1</td>\n",
       "      <td>1</td>\n",
       "      <td>1</td>\n",
       "    </tr>\n",
       "  </tbody>\n",
       "</table>\n",
       "</div>"
      ],
      "text/plain": [
       "                                        10478479  \\\n",
       "key                2010-01-16 20:06:00.000000168   \n",
       "fare_amount                                  3.3   \n",
       "pickup_datetime          2010-01-16 20:06:00 UTC   \n",
       "pickup_longitude                      -73.953323   \n",
       "pickup_latitude                        40.778532   \n",
       "dropoff_longitude                     -73.953375   \n",
       "dropoff_latitude                       40.772505   \n",
       "passenger_count                                1   \n",
       "\n",
       "                                       2240033                      24966385  \\\n",
       "key                2010-09-22 23:21:00.00000065  2013-10-17 18:40:14.0000001   \n",
       "fare_amount                                 6.5                          5.0   \n",
       "pickup_datetime         2010-09-22 23:21:00 UTC      2013-10-17 18:40:14 UTC   \n",
       "pickup_longitude                     -73.985542                   -73.999945   \n",
       "pickup_latitude                       40.738333                    40.718097   \n",
       "dropoff_longitude                     -74.00335                   -73.999239   \n",
       "dropoff_latitude                      40.738935                    40.723103   \n",
       "passenger_count                               1                            1   \n",
       "\n",
       "                                      38721384                     41464765  \n",
       "key                2015-06-09 19:39:42.0000009  2012-05-01 07:16:59.0000001  \n",
       "fare_amount                               40.5                          7.7  \n",
       "pickup_datetime        2015-06-09 19:39:42 UTC      2012-05-01 07:16:59 UTC  \n",
       "pickup_longitude                    -73.974533                   -73.952835  \n",
       "pickup_latitude                      40.756237                    40.786351  \n",
       "dropoff_longitude                   -73.923149                   -73.974022  \n",
       "dropoff_latitude                      40.86721                    40.762765  \n",
       "passenger_count                              1                            1  "
      ]
     },
     "execution_count": 11,
     "metadata": {},
     "output_type": "execute_result"
    }
   ],
   "source": [
    "print(df_train.columns.tolist())\n",
    "df_train.head().T"
   ]
  },
  {
   "cell_type": "code",
   "execution_count": 12,
   "id": "de245906-f71e-42d1-a61a-d41a0fe41f61",
   "metadata": {},
   "outputs": [],
   "source": [
    "features = [\n",
    "    'pickup_longitude',\n",
    "    'pickup_latitude',\n",
    "    'dropoff_longitude',\n",
    "    'dropoff_latitude',\n",
    "    'passenger_count'\n",
    "]\n"
   ]
  },
  {
   "cell_type": "code",
   "execution_count": 18,
   "id": "daad4c94-a518-4fb6-9a6b-7a62c25d2fe9",
   "metadata": {},
   "outputs": [
    {
     "name": "stdout",
     "output_type": "stream",
     "text": [
      "[LightGBM] [Info] Auto-choosing row-wise multi-threading, the overhead of testing was 0.001764 seconds.\n",
      "You can set `force_row_wise=true` to remove the overhead.\n",
      "And if memory is not enough, you can set `force_col_wise=true`.\n",
      "[LightGBM] [Info] Total Bins 1028\n",
      "[LightGBM] [Info] Number of data points in the train set: 443391, number of used features: 5\n",
      "[LightGBM] [Info] Start training from score 11.335547\n",
      "[LightGBM] [Info] Auto-choosing row-wise multi-threading, the overhead of testing was 0.001832 seconds.\n",
      "You can set `force_row_wise=true` to remove the overhead.\n",
      "And if memory is not enough, you can set `force_col_wise=true`.\n",
      "[LightGBM] [Info] Total Bins 1027\n",
      "[LightGBM] [Info] Number of data points in the train set: 443391, number of used features: 5\n",
      "[LightGBM] [Info] Start training from score 11.331310\n",
      "[LightGBM] [Info] Auto-choosing row-wise multi-threading, the overhead of testing was 0.001979 seconds.\n",
      "You can set `force_row_wise=true` to remove the overhead.\n",
      "And if memory is not enough, you can set `force_col_wise=true`.\n",
      "[LightGBM] [Info] Total Bins 1027\n",
      "[LightGBM] [Info] Number of data points in the train set: 443391, number of used features: 5\n",
      "[LightGBM] [Info] Start training from score 11.331689\n",
      "[LightGBM] [Info] Auto-choosing row-wise multi-threading, the overhead of testing was 0.001810 seconds.\n",
      "You can set `force_row_wise=true` to remove the overhead.\n",
      "And if memory is not enough, you can set `force_col_wise=true`.\n",
      "[LightGBM] [Info] Total Bins 1028\n",
      "[LightGBM] [Info] Number of data points in the train set: 443391, number of used features: 5\n",
      "[LightGBM] [Info] Start training from score 11.330715\n",
      "[LightGBM] [Info] Auto-choosing row-wise multi-threading, the overhead of testing was 0.001912 seconds.\n",
      "You can set `force_row_wise=true` to remove the overhead.\n",
      "And if memory is not enough, you can set `force_col_wise=true`.\n",
      "[LightGBM] [Info] Total Bins 1028\n",
      "[LightGBM] [Info] Number of data points in the train set: 443392, number of used features: 5\n",
      "[LightGBM] [Info] Start training from score 11.317725\n",
      "平均RMSE: 4.6452\n"
     ]
    }
   ],
   "source": [
    "from lightgbm import LGBMRegressor\n",
    "from sklearn.model_selection import KFold\n",
    "from sklearn.metrics import mean_squared_error\n",
    "import numpy as np\n",
    "\n",
    "X = df_train_small[features]\n",
    "y = df_train_small[\"fare_amount\"]\n",
    "\n",
    "kf = KFold(n_splits=5, shuffle=True, random_state=42)\n",
    "rmse_scores = []\n",
    "\n",
    "for fold, (train_idx, val_idx) in enumerate(kf.split(X, y)):\n",
    "    X_train, X_val = X.iloc[train_idx], X.iloc[val_idx]\n",
    "    y_train, y_val = y.iloc[train_idx], y.iloc[val_idx]\n",
    "\n",
    "    model = LGBMRegressor(n_estimators=1000, learning_rate=0.1, random_state=42)\n",
    "\n",
    "    model.fit(\n",
    "        X_train, y_train,\n",
    "        eval_set=[(X_val, y_val)],\n",
    "        eval_metric=\"rmse\",\n",
    "#        early_stopping_rounds=50,\n",
    "#        verbose=100\n",
    "    )\n",
    "\n",
    "    y_pred = model.predict(X_val)\n",
    "#    rmse = mean_squared_error(y_val, y_pred, squared=False)\n",
    "    rmse = np.sqrt(mean_squared_error(y_val, y_pred))\n",
    "    rmse_scores.append(rmse)\n",
    "\n",
    "print(f\"平均RMSE: {np.mean(rmse_scores):.4f}\")\n",
    "\n",
    "\n"
   ]
  },
  {
   "cell_type": "code",
   "execution_count": 14,
   "id": "870d7d5f-b000-4031-8772-a46913573fa4",
   "metadata": {},
   "outputs": [
    {
     "name": "stdout",
     "output_type": "stream",
     "text": [
      "4.6.0\n"
     ]
    }
   ],
   "source": [
    "import lightgbm\n",
    "print(lightgbm.__version__)"
   ]
  },
  {
   "cell_type": "code",
   "execution_count": 15,
   "id": "ee3a1a86-bfae-4eb7-85d1-586fb7772815",
   "metadata": {},
   "outputs": [
    {
     "name": "stdout",
     "output_type": "stream",
     "text": [
      "1.6.1\n"
     ]
    }
   ],
   "source": [
    "import sklearn\n",
    "print(sklearn.__version__)\n"
   ]
  },
  {
   "cell_type": "code",
   "execution_count": 16,
   "id": "a9ba78e6-6057-495c-afba-46dcf9003d91",
   "metadata": {},
   "outputs": [
    {
     "name": "stdout",
     "output_type": "stream",
     "text": [
      "y_val type: <class 'pandas.core.series.Series'>\n",
      "y_pred type: <class 'numpy.ndarray'>\n",
      "mean_squared_error function: <function mean_squared_error at 0x17b9d2170>\n"
     ]
    }
   ],
   "source": [
    "from sklearn.metrics import mean_squared_error\n",
    "import numpy as np\n",
    "\n",
    "print(\"y_val type:\", type(y_val))\n",
    "print(\"y_pred type:\", type(y_pred))\n",
    "\n",
    "print(\"mean_squared_error function:\", mean_squared_error)\n"
   ]
  },
  {
   "cell_type": "code",
   "execution_count": 17,
   "id": "30aa7225-5879-4667-b5dc-683a7a7f0393",
   "metadata": {},
   "outputs": [
    {
     "name": "stdout",
     "output_type": "stream",
     "text": [
      "/opt/anaconda3/envs/new-york-taxi-fare-prediction/lib/python3.10/site-packages/sklearn/utils/_param_validation.py\n"
     ]
    }
   ],
   "source": [
    "import inspect\n",
    "print(inspect.getfile(mean_squared_error))\n"
   ]
  },
  {
   "cell_type": "code",
   "execution_count": null,
   "id": "5a0571d7-759d-4aaf-b528-17f6d6dd86aa",
   "metadata": {},
   "outputs": [],
   "source": []
  }
 ],
 "metadata": {
  "kernelspec": {
   "display_name": "Python 3 (ipykernel)",
   "language": "python",
   "name": "python3"
  },
  "language_info": {
   "codemirror_mode": {
    "name": "ipython",
    "version": 3
   },
   "file_extension": ".py",
   "mimetype": "text/x-python",
   "name": "python",
   "nbconvert_exporter": "python",
   "pygments_lexer": "ipython3",
   "version": "3.10.16"
  }
 },
 "nbformat": 4,
 "nbformat_minor": 5
}
