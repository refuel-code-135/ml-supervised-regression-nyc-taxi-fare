{
 "cells": [
  {
   "cell_type": "code",
   "execution_count": 4,
   "id": "f2a2c588-9742-4109-8cff-4c17da71b605",
   "metadata": {},
   "outputs": [],
   "source": [
    "import pandas as pd\n",
    "import seaborn as sns\n",
    "import matplotlib.pyplot as plt\n",
    "pd.set_option('display.max_rows', 200)"
   ]
  },
  {
   "cell_type": "code",
   "execution_count": 5,
   "id": "72712622-8044-40a3-96f0-21f005741aaa",
   "metadata": {},
   "outputs": [],
   "source": [
    "df_train = pd.read_csv(\"../data/train.csv\")"
   ]
  },
  {
   "cell_type": "code",
   "execution_count": 7,
   "id": "0f9f8951-b997-4e29-9ff8-78b13833fec8",
   "metadata": {},
   "outputs": [
    {
     "name": "stdout",
     "output_type": "stream",
     "text": [
      "['key', 'fare_amount', 'pickup_datetime', 'pickup_longitude', 'pickup_latitude', 'dropoff_longitude', 'dropoff_latitude', 'passenger_count']\n"
     ]
    },
    {
     "data": {
      "text/html": [
       "<div>\n",
       "<style scoped>\n",
       "    .dataframe tbody tr th:only-of-type {\n",
       "        vertical-align: middle;\n",
       "    }\n",
       "\n",
       "    .dataframe tbody tr th {\n",
       "        vertical-align: top;\n",
       "    }\n",
       "\n",
       "    .dataframe thead th {\n",
       "        text-align: right;\n",
       "    }\n",
       "</style>\n",
       "<table border=\"1\" class=\"dataframe\">\n",
       "  <thead>\n",
       "    <tr style=\"text-align: right;\">\n",
       "      <th></th>\n",
       "      <th>0</th>\n",
       "      <th>1</th>\n",
       "      <th>2</th>\n",
       "      <th>3</th>\n",
       "      <th>4</th>\n",
       "    </tr>\n",
       "  </thead>\n",
       "  <tbody>\n",
       "    <tr>\n",
       "      <th>key</th>\n",
       "      <td>2009-06-15 17:26:21.0000001</td>\n",
       "      <td>2010-01-05 16:52:16.0000002</td>\n",
       "      <td>2011-08-18 00:35:00.00000049</td>\n",
       "      <td>2012-04-21 04:30:42.0000001</td>\n",
       "      <td>2010-03-09 07:51:00.000000135</td>\n",
       "    </tr>\n",
       "    <tr>\n",
       "      <th>fare_amount</th>\n",
       "      <td>4.5</td>\n",
       "      <td>16.9</td>\n",
       "      <td>5.7</td>\n",
       "      <td>7.7</td>\n",
       "      <td>5.3</td>\n",
       "    </tr>\n",
       "    <tr>\n",
       "      <th>pickup_datetime</th>\n",
       "      <td>2009-06-15 17:26:21 UTC</td>\n",
       "      <td>2010-01-05 16:52:16 UTC</td>\n",
       "      <td>2011-08-18 00:35:00 UTC</td>\n",
       "      <td>2012-04-21 04:30:42 UTC</td>\n",
       "      <td>2010-03-09 07:51:00 UTC</td>\n",
       "    </tr>\n",
       "    <tr>\n",
       "      <th>pickup_longitude</th>\n",
       "      <td>-73.844311</td>\n",
       "      <td>-74.016048</td>\n",
       "      <td>-73.982738</td>\n",
       "      <td>-73.98713</td>\n",
       "      <td>-73.968095</td>\n",
       "    </tr>\n",
       "    <tr>\n",
       "      <th>pickup_latitude</th>\n",
       "      <td>40.721319</td>\n",
       "      <td>40.711303</td>\n",
       "      <td>40.76127</td>\n",
       "      <td>40.733143</td>\n",
       "      <td>40.768008</td>\n",
       "    </tr>\n",
       "    <tr>\n",
       "      <th>dropoff_longitude</th>\n",
       "      <td>-73.84161</td>\n",
       "      <td>-73.979268</td>\n",
       "      <td>-73.991242</td>\n",
       "      <td>-73.991567</td>\n",
       "      <td>-73.956655</td>\n",
       "    </tr>\n",
       "    <tr>\n",
       "      <th>dropoff_latitude</th>\n",
       "      <td>40.712278</td>\n",
       "      <td>40.782004</td>\n",
       "      <td>40.750562</td>\n",
       "      <td>40.758092</td>\n",
       "      <td>40.783762</td>\n",
       "    </tr>\n",
       "    <tr>\n",
       "      <th>passenger_count</th>\n",
       "      <td>1</td>\n",
       "      <td>1</td>\n",
       "      <td>2</td>\n",
       "      <td>1</td>\n",
       "      <td>1</td>\n",
       "    </tr>\n",
       "  </tbody>\n",
       "</table>\n",
       "</div>"
      ],
      "text/plain": [
       "                                             0                            1  \\\n",
       "key                2009-06-15 17:26:21.0000001  2010-01-05 16:52:16.0000002   \n",
       "fare_amount                                4.5                         16.9   \n",
       "pickup_datetime        2009-06-15 17:26:21 UTC      2010-01-05 16:52:16 UTC   \n",
       "pickup_longitude                    -73.844311                   -74.016048   \n",
       "pickup_latitude                      40.721319                    40.711303   \n",
       "dropoff_longitude                    -73.84161                   -73.979268   \n",
       "dropoff_latitude                     40.712278                    40.782004   \n",
       "passenger_count                              1                            1   \n",
       "\n",
       "                                              2                            3  \\\n",
       "key                2011-08-18 00:35:00.00000049  2012-04-21 04:30:42.0000001   \n",
       "fare_amount                                 5.7                          7.7   \n",
       "pickup_datetime         2011-08-18 00:35:00 UTC      2012-04-21 04:30:42 UTC   \n",
       "pickup_longitude                     -73.982738                    -73.98713   \n",
       "pickup_latitude                        40.76127                    40.733143   \n",
       "dropoff_longitude                    -73.991242                   -73.991567   \n",
       "dropoff_latitude                      40.750562                    40.758092   \n",
       "passenger_count                               2                            1   \n",
       "\n",
       "                                               4  \n",
       "key                2010-03-09 07:51:00.000000135  \n",
       "fare_amount                                  5.3  \n",
       "pickup_datetime          2010-03-09 07:51:00 UTC  \n",
       "pickup_longitude                      -73.968095  \n",
       "pickup_latitude                        40.768008  \n",
       "dropoff_longitude                     -73.956655  \n",
       "dropoff_latitude                       40.783762  \n",
       "passenger_count                                1  "
      ]
     },
     "execution_count": 7,
     "metadata": {},
     "output_type": "execute_result"
    }
   ],
   "source": [
    "print(df_train.columns.tolist())\n",
    "df_train.head().T"
   ]
  },
  {
   "cell_type": "code",
   "execution_count": 9,
   "id": "daad4c94-a518-4fb6-9a6b-7a62c25d2fe9",
   "metadata": {},
   "outputs": [],
   "source": [
    "df_train.to_parquet(\"../data/train.parquet\") "
   ]
  },
  {
   "cell_type": "code",
   "execution_count": null,
   "id": "60be6149-5fb3-4797-a669-fcc6f489ab13",
   "metadata": {},
   "outputs": [],
   "source": []
  }
 ],
 "metadata": {
  "kernelspec": {
   "display_name": "Python 3 (ipykernel)",
   "language": "python",
   "name": "python3"
  },
  "language_info": {
   "codemirror_mode": {
    "name": "ipython",
    "version": 3
   },
   "file_extension": ".py",
   "mimetype": "text/x-python",
   "name": "python",
   "nbconvert_exporter": "python",
   "pygments_lexer": "ipython3",
   "version": "3.10.16"
  }
 },
 "nbformat": 4,
 "nbformat_minor": 5
}
